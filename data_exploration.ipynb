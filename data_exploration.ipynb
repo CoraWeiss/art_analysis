# Notebook: 01_data_exploration.ipynb

import os
import pandas as pd
import numpy as np
import matplotlib.pyplot as plt
import seaborn as sns
import cv2
from sklearn.preprocessing import StandardScaler
from sklearn.decomposition import PCA

# Image Processing and Analysis Class
class ArtDataProcessor:
    def __init__(self, data_path):
        self.data_path = data_path
        self.image_paths = []
        self.image_metadata = []
    
    def load_images(self):
        """
        Load all images from the specified directory
        Extracts basic metadata about each image
        """
        for root, dirs, files in os.walk(self.data_path):
            for file in files:
                if file.lower().endswith(('.png', '.jpg', '.jpeg', '.bmp', '.gif')):
                    full_path = os.path.join(root, file)
                    self.image_paths.append(full_path)
                    
                    # Extract metadata
                    img = cv2.imread(full_path)
                    metadata = {
                        'filename': file,
                        'height': img.shape[0],
                        'width': img.shape[1],
                        'channels': img.shape[2],
                        'file_size': os.path.getsize(full_path)
                    }
                    self.image_metadata.append(metadata)
        
        return pd.DataFrame(self.image_metadata)
    
    def analyze_color_distribution(self, sample_size=10):
        """
        Analyze color distribution for a sample of images
        """
        color_features = []
        
        # Sample images randomly if dataset is large
        sample_images = np.random.choice(self.image_paths, 
                                         min(sample_size, len(self.image_paths)), 
                                         replace=False)
        
        for img_path in sample_images:
            img = cv2.imread(img_path)
            img_hsv = cv2.cvtColor(img, cv2.COLOR_BGR2HSV)
            
            # Calculate color histograms
            hist_hue = cv2.calcHist([img_hsv], [0], None, [180], [0, 180])
            hist_sat = cv2.calcHist([img_hsv], [1], None, [256], [0, 256])
            hist_val = cv2.calcHist([img_hsv], [2], None, [256], [0, 256])
            
            color_features.append({
                'filename': os.path.basename(img_path),
                'dominant_hue': np.argmax(hist_hue),
                'hue_variance': np.var(hist_hue),
                'saturation_mean': np.mean(hist_sat),
                'value_mean': np.mean(hist_val)
            })
        
        return pd.DataFrame(color_features)
    
    def visualize_image_metadata(self, metadata_df):
        """
        Create visualizations of image metadata
        """
        plt.figure(figsize=(15, 5))
        
        # Image Size Distribution
        plt.subplot(131)
        sns.histplot(metadata_df['width'], kde=True)
        plt.title('Image Width Distribution')
        
        # Image Height Distribution
        plt.subplot(132)
        sns.histplot(metadata_df['height'], kde=True)
        plt.title('Image Height Distribution')
        
        # File Size Distribution
        plt.subplot(133)
        sns.histplot(metadata_df['file_size'], kde=True)
        plt.title('File Size Distribution')
        
        plt.tight_layout()
        plt.savefig('visualizations/image_metadata_distribution.png')
        plt.close()

# Main Execution
def main():
    # Initialize processor
    processor = ArtDataProcessor('data/raw/')
    
    # Load and analyze images
    metadata_df = processor.load_images()
    color_analysis_df = processor.analyze_color_distribution()
    
    # Visualize metadata
    processor.visualize_image_metadata(metadata_df)
    
    # Save dataframes
    metadata_df.to_csv('data/processed/image_metadata.csv', index=False)
    color_analysis_df.to_csv('data/processed/color_analysis.csv', index=False)
    
    # Print basic statistics
    print(f"Total Images Processed: {len(metadata_df)}")
    print("\nMetadata Summary:")
    print(metadata_df.describe())
    
    print("\nColor Analysis Summary:")
    print(color_analysis_df.describe())

if __name__ == '__main__':
    main()
