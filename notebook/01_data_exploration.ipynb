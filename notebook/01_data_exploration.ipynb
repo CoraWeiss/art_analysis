{
 "cells": [
  {
   "cell_type": "markdown",
   "metadata": {},
   "source": [
    "# Art Image Data Exploration and Analysis\n",
    "\n",
    "This notebook provides a comprehensive approach to exploring and analyzing a personal art image dataset."
   ]
  },
  {
   "cell_type": "code",
   "execution_count": null,
   "metadata": {},
   "outputs": [],
   "source": [
    "# Import required libraries\n",
    "import os\n",
    "import pandas as pd\n",
    "import numpy as np\n",
    "import matplotlib.pyplot as plt\n",
    "import seaborn as sns\n",
    "import cv2\n",
    "from sklearn.preprocessing import StandardScaler\n",
    "from sklearn.decomposition import PCA"
   ]
  },
  {
   "cell_type": "code",
   "execution_count": null,
   "metadata": {},
   "outputs": [],
   "source": [
    "class ArtDataProcessor:\n",
    "    def __init__(self, data_path):\n",
    "        self.data_path = data_path\n",
    "        self.image_paths = []\n",
    "        self.image_metadata = []\n",
    "    \n",
    "    def load_images(self):\n",
    "        \"\"\"Load all images from the specified directory\"\"\"\n",
    "        for root, dirs, files in os.walk(self.data_path):\n",
    "            for file in files:\n",
    "                if file.lower().endswith(('.png', '.jpg', '.jpeg', '.bmp', '.gif')):\n",
    "                    full_path = os.path.join(root, file)\n",
    "                    self.image_paths.append(full_path)\n",
    "                    \n",
    "                    # Extract metadata\n",
    "                    img = cv2.imread(full_path)\n",
    "                    metadata = {\n",
    "                        'filename': file,\n",
    "                        'height': img.shape[0],\n",
    "                        'width': img.shape[1],\n",
    "                        'channels': img.shape[2],\n",
    "                        'file_size': os.path.getsize(full_path)\n",
    "                    }\n",
    "                    self.image_metadata.append(metadata)\n",
    "        \n",
    "        return pd.DataFrame(self.image_metadata)"
   ]
  },
  {
   "cell_type": "code",
   "execution_count": null,
   "metadata": {},
   "outputs": [],
   "source": [
    "# Main execution\n",
    "def main():\n",
    "    # Initialize processor\n",
    "    processor = ArtDataProcessor('data/raw/')\n",
    "    \n",
    "    # Load and analyze images\n",
    "    metadata_df = processor.load_images()\n",
    "    \n",
    "    # Print basic statistics\n",
    "    print(f\"Total Images Processed: {len(metadata_df)}\")\n",
    "    print(\"\\nMetadata Summary:\")\n",
    "    print(metadata_df.describe())\n",
    "    \n",
    "    # Save metadata\n",
    "    metadata_df.to_csv('data/processed/image_metadata.csv', index=False)"
   ]
  },
  {
   "cell_type": "code",
   "execution_count": null,
   "metadata": {},
   "outputs": [],
   "source": [
    "# Run the main function\n",
    "if __name__ == '__main__':\n",
    "    main()"
   ]
 ],
 "metadata": {
  "kernelspec": {
   "display_name": "Python 3",
   "language": "python",
   "name": "python3"
  },
  "language_info": {
   "name": "python",
   "version": "3.8.0"
  }
 },
 "nbformat": 4,
 "nbformat_minor": 4
}
