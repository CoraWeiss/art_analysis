{
 "cells": [
  {
   "cell_type": "markdown",
   "metadata": {},
   "source": [
    "# Art Image Data Exploration and Analysis\n",
    "\n",
    "This notebook provides a comprehensive approach to exploring and analyzing a personal art image dataset."
   ]
  },
  {
   "cell_type": "code",
   "execution_count": null,
   "metadata": {},
   "outputs": [],
   "source": [
    "# Import required libraries\n",
    "import os\n",
    "import pandas as pd\n",
    "import numpy as np\n",
    "import matplotlib.pyplot as plt\n",
    "import cv2\n",
    "print('Libraries imported successfully')"
   ]
  },
  {
   "cell_type": "code",
   "execution_count": null,
   "metadata": {},
   "outputs": [],
   "source": [
    "class ArtDataProcessor:\n",
    "    def __init__(self, data_path):\n",
    "        self.data_path = data_path\n",
    "        self.image_paths = []\n",
    "        self.image_metadata = []\n",
    "    \n",
    "    def load_images(self):\n",
    "        \"\"\"Load all images from the specified directory\"\"\"\n",
    "        for root, dirs, files in os.walk(self.data_path):\n",
    "            for file in files:\n",
    "                if file.lower().endswith(('.png', '.jpg', '.jpeg', '.bmp', '.gif')):\n",
    "                    full_path = os.path.join(root, file)\n",
    "                    self.image_paths.append(full_path)\n",
    "                    \n",
    "                    # Extract metadata\n",
    "                    img = cv2.imread(full_path)\n",
    "                    metadata = {\n",
    "                        'filename': file,\n",
    "                        'height': img.shape[0] if img is not None else None,\n",
    "                        'width': img.shape[1] if img is not None else None,\n",
    "                        'channels': img.shape[2] if img is not None else None,\n",
    "                        'file_size': os.path.getsize(full_path)\n",
    "                    }\n",
    "                    self.image_metadata.append(metadata)\n",
    "        \n",
    "        return pd.DataFrame(self.image_metadata)"
   ]
  },
  {
   "cell_type": "code",
   "execution_count": null,
   "metadata": {},
   "outputs": [],
   "source": [
    "# Main execution\n",
    "def main():\n",
    "    # Initialize processor\n",
    "    processor = ArtDataProcessor('data/raw/')\n",
    "    \n",
    "    # Load and analyze images\n",
    "    metadata_df = processor.load_images()\n",
    "    \n",
    "    # Print basic statistics\n",
    "    print(f\"Total Images Processed: {len(metadata_df)}\")\n",
    "    print(\"\\nMetadata Summary:\")\n",
    "    print(metadata_df.describe())\n",
    "    \n",
    "    # Save metadata\n",
    "    metadata_df.to_csv('data/processed/image_metadata.csv', index=False)"
   ]
  },
  {
   "cell_type": "code",
   "execution_count": null,
   "metadata": {},
   "outputs": [],
   "source": [
    "# Run the main function\n",
    "main()"
   ]
 ],
 "metadata": {
  "kernelspec": {
   "display_name": "Python 3 (ipykernel)",
   "language": "python",
   "name": "python3"
  },
  "language_info": {
   "codemirror_mode": {
    "name": "ipython",
    "version": 3
   },
   "file_extension": ".py",
   "mimetype": "text/x-python",
   "name": "python",
   "nbconvert_exporter": "python",
   "pygments_lexer": "ipython3",
   "version": "3.8.10"
  }
 },
 "nbformat": 4,
 "nbformat_minor": 5
}
